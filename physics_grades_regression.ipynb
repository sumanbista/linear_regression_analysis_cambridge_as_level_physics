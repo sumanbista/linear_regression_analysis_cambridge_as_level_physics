{
  "nbformat": 4,
  "nbformat_minor": 0,
  "metadata": {
    "colab": {
      "name": "physics_grades_regression.ipynb",
      "provenance": []
    },
    "kernelspec": {
      "name": "python3",
      "display_name": "Python 3"
    },
    "language_info": {
      "name": "python"
    }
  },
  "cells": [
    {
      "cell_type": "code",
      "metadata": {
        "id": "aPx5KaDZd4Lb"
      },
      "source": [
        "#importing the necessary library for regression \n",
        "import pandas as pd\n",
        "import numpy as np\n",
        "import matplotlib.pyplot as plt\n",
        "from sklearn import linear_model"
      ],
      "execution_count": null,
      "outputs": []
    },
    {
      "cell_type": "markdown",
      "metadata": {
        "id": "-KDVy4tZh7is"
      },
      "source": [
        "# **Linear Regression of percentage of students achieving grade a with respect to grade threshold of grade a**"
      ]
    },
    {
      "cell_type": "markdown",
      "source": [
        ""
      ],
      "metadata": {
        "id": "C7ZTH7ThK0RK"
      }
    },
    {
      "cell_type": "code",
      "metadata": {
        "colab": {
          "base_uri": "https://localhost:8080/",
          "height": 200
        },
        "id": "r2ybjGMZeNF1",
        "outputId": "76603210-b9f5-4831-b13d-319da2ef129b"
      },
      "source": [
        "df = pd.read_csv(\"/content/drive/MyDrive/Colab Notebooks/physics_grades_regression/physics_as_csv_grade_a.csv\")\n",
        "df.head(5)"
      ],
      "execution_count": null,
      "outputs": [
        {
          "output_type": "execute_result",
          "data": {
            "text/html": [
              "<div>\n",
              "<style scoped>\n",
              "    .dataframe tbody tr th:only-of-type {\n",
              "        vertical-align: middle;\n",
              "    }\n",
              "\n",
              "    .dataframe tbody tr th {\n",
              "        vertical-align: top;\n",
              "    }\n",
              "\n",
              "    .dataframe thead th {\n",
              "        text-align: right;\n",
              "    }\n",
              "</style>\n",
              "<table border=\"1\" class=\"dataframe\">\n",
              "  <thead>\n",
              "    <tr style=\"text-align: right;\">\n",
              "      <th></th>\n",
              "      <th>year</th>\n",
              "      <th>percent_achieving_grade_a</th>\n",
              "      <th>grade_threshold_of_grade_a</th>\n",
              "    </tr>\n",
              "  </thead>\n",
              "  <tbody>\n",
              "    <tr>\n",
              "      <th>0</th>\n",
              "      <td>jun_15</td>\n",
              "      <td>32.0</td>\n",
              "      <td>87.000000</td>\n",
              "    </tr>\n",
              "    <tr>\n",
              "      <th>1</th>\n",
              "      <td>nov_15</td>\n",
              "      <td>25.4</td>\n",
              "      <td>81.800000</td>\n",
              "    </tr>\n",
              "    <tr>\n",
              "      <th>2</th>\n",
              "      <td>jun_16</td>\n",
              "      <td>30.8</td>\n",
              "      <td>88.428571</td>\n",
              "    </tr>\n",
              "    <tr>\n",
              "      <th>3</th>\n",
              "      <td>nov_16</td>\n",
              "      <td>25.5</td>\n",
              "      <td>93.000000</td>\n",
              "    </tr>\n",
              "    <tr>\n",
              "      <th>4</th>\n",
              "      <td>jun_17</td>\n",
              "      <td>29.3</td>\n",
              "      <td>89.400000</td>\n",
              "    </tr>\n",
              "  </tbody>\n",
              "</table>\n",
              "</div>"
            ],
            "text/plain": [
              "     year  percent_achieving_grade_a  grade_threshold_of_grade_a\n",
              "0  jun_15                       32.0                   87.000000\n",
              "1  nov_15                       25.4                   81.800000\n",
              "2  jun_16                       30.8                   88.428571\n",
              "3  nov_16                       25.5                   93.000000\n",
              "4  jun_17                       29.3                   89.400000"
            ]
          },
          "metadata": {},
          "execution_count": 10
        }
      ]
    },
    {
      "cell_type": "code",
      "metadata": {
        "colab": {
          "base_uri": "https://localhost:8080/",
          "height": 296
        },
        "id": "7QYhe6bleuTb",
        "outputId": "bff5509c-82e9-44c2-a3c8-81c0a124e8c9"
      },
      "source": [
        "%matplotlib inline\n",
        "plt.xlabel(\"grade_threshold_of_grade_a (Physics)\")\n",
        "plt.ylabel(\"%_achieving_grade_a (Physics)\")\n",
        "plt.scatter(df.grade_threshold_of_grade_a, df.percent_achieving_grade_a, color='red', marker='+')"
      ],
      "execution_count": null,
      "outputs": [
        {
          "output_type": "execute_result",
          "data": {
            "text/plain": [
              "<matplotlib.collections.PathCollection at 0x7f27078f2390>"
            ]
          },
          "metadata": {},
          "execution_count": 11
        },
        {
          "output_type": "display_data",
          "data": {
            "image/png": "[encoded data removed]",
            "text/plain": [
              "<Figure size 432x288 with 1 Axes>"
            ]
          },
          "metadata": {
            "needs_background": "light"
          }
        }
      ]
    },
    {
      "cell_type": "code",
      "metadata": {
        "colab": {
          "base_uri": "https://localhost:8080/"
        },
        "id": "AP8OLW0BfNJl",
        "outputId": "5fc78166-3de5-4a33-fc32-dd2d493b332b"
      },
      "source": [
        "physics_a_reg = linear_model.LinearRegression()\n",
        "physics_a_reg.fit(df[['grade_threshold_of_grade_a']], df.percent_achieving_grade_a)"
      ],
      "execution_count": null,
      "outputs": [
        {
          "output_type": "execute_result",
          "data": {
            "text/plain": [
              "LinearRegression(copy_X=True, fit_intercept=True, n_jobs=None, normalize=False)"
            ]
          },
          "metadata": {},
          "execution_count": 12
        }
      ]
    },
    {
      "cell_type": "code",
      "metadata": {
        "colab": {
          "base_uri": "https://localhost:8080/"
        },
        "id": "8lUNeGQdgebG",
        "outputId": "bbe1a3f3-285a-4e3a-c20c-2c28b08e3dbe"
      },
      "source": [
        "predicted_percent_acheiving_grade_a = physics_a_reg.predict(df[['grade_threshold_of_grade_a']])\n",
        "predicted_percent_acheiving_grade_a"
      ],
      "execution_count": null,
      "outputs": [
        {
          "output_type": "execute_result",
          "data": {
            "text/plain": [
              "array([33.17305501, 35.83585654, 32.44151612, 30.1005917 , 31.94406968,\n",
              "       30.30542259, 29.95428392, 29.69092992, 28.87160638, 30.8174998 ,\n",
              "       24.97981952, 33.58271678, 32.66097779, 31.84165424])"
            ]
          },
          "metadata": {},
          "execution_count": 13
        }
      ]
    },
    {
      "cell_type": "code",
      "metadata": {
        "colab": {
          "base_uri": "https://localhost:8080/",
          "height": 296
        },
        "id": "VnywmWkWgsFz",
        "outputId": "536d4734-4bc3-4bd5-efb1-7378eddb57c8"
      },
      "source": [
        "%matplotlib inline\n",
        "plt.xlabel(\"grade_threshold_of_grade_a (Physics)\")\n",
        "plt.ylabel(\"%_achieving_grade_a (Physics)\")\n",
        "plt.scatter(df.grade_threshold_of_grade_a, df.percent_achieving_grade_a, color='red', marker='+')\n",
        "plt.plot(df.grade_threshold_of_grade_a, physics_a_reg.predict(df[['grade_threshold_of_grade_a']]), color='blue')"
      ],
      "execution_count": null,
      "outputs": [
        {
          "output_type": "execute_result",
          "data": {
            "text/plain": [
              "[<matplotlib.lines.Line2D at 0x7f270722df50>]"
            ]
          },
          "metadata": {},
          "execution_count": 17
        },
        {
          "output_type": "display_data",
          "data": {
            "image/png": "[encoded data removed]",
            "text/plain": [
              "<Figure size 432x288 with 1 Axes>"
            ]
          },
          "metadata": {
            "needs_background": "light"
          }
        }
      ]
    },
    {
      "cell_type": "markdown",
      "metadata": {
        "id": "oDOEGU2MhooU"
      },
      "source": [
        "# **Linear Regression of percentage of students achieving grade b with respect to grade threshold of grade b**"
      ]
    },
    {
      "cell_type": "code",
      "metadata": {
        "colab": {
          "base_uri": "https://localhost:8080/",
          "height": 200
        },
        "id": "y1z9zeIShFnm",
        "outputId": "9dc220ca-a0e6-4b84-8777-45c4dc5df344"
      },
      "source": [
        "df_b = pd.read_csv(\"/content/drive/MyDrive/Colab Notebooks/physics_grades_regression/physics_as_csv_grade_b.csv\")\n",
        "df_b.head(5)"
      ],
      "execution_count": null,
      "outputs": [
        {
          "output_type": "execute_result",
          "data": {
            "text/html": [
              "<div>\n",
              "<style scoped>\n",
              "    .dataframe tbody tr th:only-of-type {\n",
              "        vertical-align: middle;\n",
              "    }\n",
              "\n",
              "    .dataframe tbody tr th {\n",
              "        vertical-align: top;\n",
              "    }\n",
              "\n",
              "    .dataframe thead th {\n",
              "        text-align: right;\n",
              "    }\n",
              "</style>\n",
              "<table border=\"1\" class=\"dataframe\">\n",
              "  <thead>\n",
              "    <tr style=\"text-align: right;\">\n",
              "      <th></th>\n",
              "      <th>year</th>\n",
              "      <th>percent_achieving_grade_b</th>\n",
              "      <th>grade_threshold_of_grade_b</th>\n",
              "    </tr>\n",
              "  </thead>\n",
              "  <tbody>\n",
              "    <tr>\n",
              "      <th>0</th>\n",
              "      <td>jun_15</td>\n",
              "      <td>12.9</td>\n",
              "      <td>78.000000</td>\n",
              "    </tr>\n",
              "    <tr>\n",
              "      <th>1</th>\n",
              "      <td>nov_15</td>\n",
              "      <td>19.8</td>\n",
              "      <td>70.000000</td>\n",
              "    </tr>\n",
              "    <tr>\n",
              "      <th>2</th>\n",
              "      <td>jun_16</td>\n",
              "      <td>14.1</td>\n",
              "      <td>78.714286</td>\n",
              "    </tr>\n",
              "    <tr>\n",
              "      <th>3</th>\n",
              "      <td>nov_16</td>\n",
              "      <td>20.8</td>\n",
              "      <td>79.000000</td>\n",
              "    </tr>\n",
              "    <tr>\n",
              "      <th>4</th>\n",
              "      <td>jun_17</td>\n",
              "      <td>13.3</td>\n",
              "      <td>79.800000</td>\n",
              "    </tr>\n",
              "  </tbody>\n",
              "</table>\n",
              "</div>"
            ],
            "text/plain": [
              "     year  percent_achieving_grade_b  grade_threshold_of_grade_b\n",
              "0  jun_15                       12.9                   78.000000\n",
              "1  nov_15                       19.8                   70.000000\n",
              "2  jun_16                       14.1                   78.714286\n",
              "3  nov_16                       20.8                   79.000000\n",
              "4  jun_17                       13.3                   79.800000"
            ]
          },
          "metadata": {},
          "execution_count": 18
        }
      ]
    },
    {
      "cell_type": "code",
      "metadata": {
        "colab": {
          "base_uri": "https://localhost:8080/",
          "height": 296
        },
        "id": "Ijz_iUeAiY8o",
        "outputId": "6835f8ef-bbf5-4ac0-d70f-1b52c32b16d1"
      },
      "source": [
        "%matplotlib inline\n",
        "plt.xlabel(\"grade_threshold_of_grade_b (Physics)\")\n",
        "plt.ylabel(\"%_achieving_grade_b (Physics)\")\n",
        "plt.scatter(df_b.grade_threshold_of_grade_b, df_b.percent_achieving_grade_b, color='red', marker='+')"
      ],
      "execution_count": null,
      "outputs": [
        {
          "output_type": "execute_result",
          "data": {
            "text/plain": [
              "<matplotlib.collections.PathCollection at 0x7f270722d990>"
            ]
          },
          "metadata": {},
          "execution_count": 20
        },
        {
          "output_type": "display_data",
          "data": {
            "image/png": "[encoded data removed]",
            "text/plain": [
              "<Figure size 432x288 with 1 Axes>"
            ]
          },
          "metadata": {
            "needs_background": "light"
          }
        }
      ]
    },
    {
      "cell_type": "code",
      "metadata": {
        "colab": {
          "base_uri": "https://localhost:8080/"
        },
        "id": "r6kMXqVdiddf",
        "outputId": "ddaa2d5f-fed2-4a2c-f00a-53f6dc642364"
      },
      "source": [
        "physics_b_reg = linear_model.LinearRegression()\n",
        "physics_b_reg.fit(df_b[['grade_threshold_of_grade_b']], df_b.percent_achieving_grade_b)"
      ],
      "execution_count": null,
      "outputs": [
        {
          "output_type": "execute_result",
          "data": {
            "text/plain": [
              "LinearRegression(copy_X=True, fit_intercept=True, n_jobs=None, normalize=False)"
            ]
          },
          "metadata": {},
          "execution_count": 21
        }
      ]
    },
    {
      "cell_type": "code",
      "metadata": {
        "colab": {
          "base_uri": "https://localhost:8080/"
        },
        "id": "Zj-8d_46iyW-",
        "outputId": "bd3c8551-4f9c-47cd-8606-01e6b87aac39"
      },
      "source": [
        "predicted_percent_acheiving_grade_b = physics_b_reg.predict(df_b[['grade_threshold_of_grade_b']])\n",
        "predicted_percent_acheiving_grade_b"
      ],
      "execution_count": null,
      "outputs": [
        {
          "output_type": "execute_result",
          "data": {
            "text/plain": [
              "array([16.70255958, 18.29408035, 16.56045952, 16.50361949, 16.34446741,\n",
              "       16.22510335, 15.84995917, 16.02616326, 15.46913099, 16.50361949,\n",
              "       13.51951805, 17.45853195, 16.90149968, 16.9412877 ])"
            ]
          },
          "metadata": {},
          "execution_count": 22
        }
      ]
    },
    {
      "cell_type": "code",
      "metadata": {
        "colab": {
          "base_uri": "https://localhost:8080/",
          "height": 296
        },
        "id": "aZS-7o1li9rU",
        "outputId": "9cfe34db-043d-41bf-8409-3c11554fd733"
      },
      "source": [
        "%matplotlib inline\n",
        "plt.xlabel(\"grade_threshold_of_grade_b (Physics)\")\n",
        "plt.ylabel(\"%_achieving_grade_b (Physics)\")\n",
        "plt.scatter(df_b.grade_threshold_of_grade_b, df_b.percent_achieving_grade_b, color='red', marker='+')\n",
        "plt.plot(df_b.grade_threshold_of_grade_b, physics_b_reg.predict(df_b[['grade_threshold_of_grade_b']]), color='blue')"
      ],
      "execution_count": null,
      "outputs": [
        {
          "output_type": "execute_result",
          "data": {
            "text/plain": [
              "[<matplotlib.lines.Line2D at 0x7f2702ca9210>]"
            ]
          },
          "metadata": {},
          "execution_count": 24
        },
        {
          "output_type": "display_data",
          "data": {
            "image/png": "[encoded data removed]",
            "text/plain": [
              "<Figure size 432x288 with 1 Axes>"
            ]
          },
          "metadata": {
            "needs_background": "light"
          }
        }
      ]
    },
    {
      "cell_type": "markdown",
      "metadata": {
        "id": "123bvkypjsN3"
      },
      "source": [
        "# **Linear Regression of percentage of students achieving grade c with respect to grade threshold of grade c**"
      ]
    },
    {
      "cell_type": "code",
      "metadata": {
        "colab": {
          "base_uri": "https://localhost:8080/",
          "height": 200
        },
        "id": "FFR5bItWjazS",
        "outputId": "1cc1e57a-194c-428c-a1c1-b1afc66a30b6"
      },
      "source": [
        "df_c = pd.read_csv(\"/content/drive/MyDrive/Colab Notebooks/physics_grades_regression/physics_as_csv_grade_c.csv\")\n",
        "df_c.head(5)"
      ],
      "execution_count": null,
      "outputs": [
        {
          "output_type": "execute_result",
          "data": {
            "text/html": [
              "<div>\n",
              "<style scoped>\n",
              "    .dataframe tbody tr th:only-of-type {\n",
              "        vertical-align: middle;\n",
              "    }\n",
              "\n",
              "    .dataframe tbody tr th {\n",
              "        vertical-align: top;\n",
              "    }\n",
              "\n",
              "    .dataframe thead th {\n",
              "        text-align: right;\n",
              "    }\n",
              "</style>\n",
              "<table border=\"1\" class=\"dataframe\">\n",
              "  <thead>\n",
              "    <tr style=\"text-align: right;\">\n",
              "      <th></th>\n",
              "      <th>year</th>\n",
              "      <th>percent_achieving_grade_c</th>\n",
              "      <th>grade_threshold_of_grade_c</th>\n",
              "    </tr>\n",
              "  </thead>\n",
              "  <tbody>\n",
              "    <tr>\n",
              "      <th>0</th>\n",
              "      <td>jun_15</td>\n",
              "      <td>15.4</td>\n",
              "      <td>67.000000</td>\n",
              "    </tr>\n",
              "    <tr>\n",
              "      <th>1</th>\n",
              "      <td>nov_15</td>\n",
              "      <td>15.3</td>\n",
              "      <td>61.600000</td>\n",
              "    </tr>\n",
              "    <tr>\n",
              "      <th>2</th>\n",
              "      <td>jun_16</td>\n",
              "      <td>15.7</td>\n",
              "      <td>78.714286</td>\n",
              "    </tr>\n",
              "    <tr>\n",
              "      <th>3</th>\n",
              "      <td>nov_16</td>\n",
              "      <td>14.9</td>\n",
              "      <td>68.600000</td>\n",
              "    </tr>\n",
              "    <tr>\n",
              "      <th>4</th>\n",
              "      <td>jun_17</td>\n",
              "      <td>16.5</td>\n",
              "      <td>68.200000</td>\n",
              "    </tr>\n",
              "  </tbody>\n",
              "</table>\n",
              "</div>"
            ],
            "text/plain": [
              "     year  percent_achieving_grade_c  grade_threshold_of_grade_c\n",
              "0  jun_15                       15.4                   67.000000\n",
              "1  nov_15                       15.3                   61.600000\n",
              "2  jun_16                       15.7                   78.714286\n",
              "3  nov_16                       14.9                   68.600000\n",
              "4  jun_17                       16.5                   68.200000"
            ]
          },
          "metadata": {},
          "execution_count": 25
        }
      ]
    },
    {
      "cell_type": "code",
      "metadata": {
        "colab": {
          "base_uri": "https://localhost:8080/",
          "height": 296
        },
        "id": "ECg-CY4jj6kL",
        "outputId": "bc09f66a-2cee-43b5-d235-10af6774f98e"
      },
      "source": [
        "%matplotlib inline\n",
        "plt.xlabel(\"grade_threshold_of_grade_c (Physics)\")\n",
        "plt.ylabel(\"%_achieving_grade_c (Physics)\")\n",
        "plt.scatter(df_c.grade_threshold_of_grade_c, df_c.percent_achieving_grade_c, color='red', marker='+')"
      ],
      "execution_count": null,
      "outputs": [
        {
          "output_type": "execute_result",
          "data": {
            "text/plain": [
              "<matplotlib.collections.PathCollection at 0x7f2702c99c50>"
            ]
          },
          "metadata": {},
          "execution_count": 26
        },
        {
          "output_type": "display_data",
          "data": {
            "image/png": "[encoded data removed]",
            "text/plain": [
              "<Figure size 432x288 with 1 Axes>"
            ]
          },
          "metadata": {
            "needs_background": "light"
          }
        }
      ]
    },
    {
      "cell_type": "code",
      "metadata": {
        "colab": {
          "base_uri": "https://localhost:8080/"
        },
        "id": "DC6GMmtNkgj1",
        "outputId": "b5455e1e-ec93-447f-83d0-a59b2d809f77"
      },
      "source": [
        "physics_c_reg = linear_model.LinearRegression()\n",
        "physics_c_reg.fit(df_c[['grade_threshold_of_grade_c']], df_c.percent_achieving_grade_c)"
      ],
      "execution_count": null,
      "outputs": [
        {
          "output_type": "execute_result",
          "data": {
            "text/plain": [
              "LinearRegression(copy_X=True, fit_intercept=True, n_jobs=None, normalize=False)"
            ]
          },
          "metadata": {},
          "execution_count": 28
        }
      ]
    },
    {
      "cell_type": "code",
      "metadata": {
        "colab": {
          "base_uri": "https://localhost:8080/"
        },
        "id": "U02i3jRik57s",
        "outputId": "2400ef19-e238-4570-ae77-900add36c499"
      },
      "source": [
        "predicted_percent_acheiving_grade_c = physics_c_reg.predict(df_c[['grade_threshold_of_grade_c']])\n",
        "predicted_percent_acheiving_grade_c"
      ],
      "execution_count": null,
      "outputs": [
        {
          "output_type": "execute_result",
          "data": {
            "text/plain": [
              "array([14.80982425, 13.82206129, 16.95259046, 15.10249476, 15.02932713,\n",
              "       15.35858145, 15.43697534, 15.57808433, 15.87075484, 15.13907857,\n",
              "       17.55361025, 14.04156417, 14.44398612, 14.26106705])"
            ]
          },
          "metadata": {},
          "execution_count": 30
        }
      ]
    },
    {
      "cell_type": "code",
      "metadata": {
        "colab": {
          "base_uri": "https://localhost:8080/",
          "height": 296
        },
        "id": "6ZVV3vrKlKyJ",
        "outputId": "ed91a839-6a0c-478d-b540-8cd3b0cff80a"
      },
      "source": [
        "%matplotlib inline\n",
        "plt.xlabel(\"grade_threshold_of_grade_c (Physics)\")\n",
        "plt.ylabel(\"%_achieving_grade_c (Physics)\")\n",
        "plt.scatter(df_c.grade_threshold_of_grade_c, df_c.percent_achieving_grade_c, color='red', marker='+')\n",
        "plt.plot(df_c.grade_threshold_of_grade_c, physics_c_reg.predict(df_c[['grade_threshold_of_grade_c']]), color='blue')"
      ],
      "execution_count": null,
      "outputs": [
        {
          "output_type": "execute_result",
          "data": {
            "text/plain": [
              "[<matplotlib.lines.Line2D at 0x7f2702665250>]"
            ]
          },
          "metadata": {},
          "execution_count": 31
        },
        {
          "output_type": "display_data",
          "data": {
            "image/png": "[encoded data removed]",
            "text/plain": [
              "<Figure size 432x288 with 1 Axes>"
            ]
          },
          "metadata": {
            "needs_background": "light"
          }
        }
      ]
    },
    {
      "cell_type": "markdown",
      "metadata": {
        "id": "LgpObZXglszX"
      },
      "source": [
        "# **Linear Regression of percentage of students achieving grade d with respect to grade threshold of grade d**"
      ]
    },
    {
      "cell_type": "code",
      "metadata": {
        "colab": {
          "base_uri": "https://localhost:8080/",
          "height": 200
        },
        "id": "HDv0pGfflaHE",
        "outputId": "89484546-8dc2-47b9-83ee-655c5d1d5b97"
      },
      "source": [
        "df_d = pd.read_csv(\"/content/drive/MyDrive/Colab Notebooks/physics_grades_regression/physics_as_csv_grade_d.csv\")\n",
        "df_d.head(5)"
      ],
      "execution_count": null,
      "outputs": [
        {
          "output_type": "execute_result",
          "data": {
            "text/html": [
              "<div>\n",
              "<style scoped>\n",
              "    .dataframe tbody tr th:only-of-type {\n",
              "        vertical-align: middle;\n",
              "    }\n",
              "\n",
              "    .dataframe tbody tr th {\n",
              "        vertical-align: top;\n",
              "    }\n",
              "\n",
              "    .dataframe thead th {\n",
              "        text-align: right;\n",
              "    }\n",
              "</style>\n",
              "<table border=\"1\" class=\"dataframe\">\n",
              "  <thead>\n",
              "    <tr style=\"text-align: right;\">\n",
              "      <th></th>\n",
              "      <th>year</th>\n",
              "      <th>percent_achieving_grade_d</th>\n",
              "      <th>grade_threshold_of_grade_d</th>\n",
              "    </tr>\n",
              "  </thead>\n",
              "  <tbody>\n",
              "    <tr>\n",
              "      <th>0</th>\n",
              "      <td>jun_15</td>\n",
              "      <td>14.0</td>\n",
              "      <td>56.000000</td>\n",
              "    </tr>\n",
              "    <tr>\n",
              "      <th>1</th>\n",
              "      <td>nov_15</td>\n",
              "      <td>13.0</td>\n",
              "      <td>53.600000</td>\n",
              "    </tr>\n",
              "    <tr>\n",
              "      <th>2</th>\n",
              "      <td>jun_16</td>\n",
              "      <td>13.1</td>\n",
              "      <td>67.571429</td>\n",
              "    </tr>\n",
              "    <tr>\n",
              "      <th>3</th>\n",
              "      <td>nov_16</td>\n",
              "      <td>12.8</td>\n",
              "      <td>58.800000</td>\n",
              "    </tr>\n",
              "    <tr>\n",
              "      <th>4</th>\n",
              "      <td>jun_17</td>\n",
              "      <td>14.2</td>\n",
              "      <td>57.600000</td>\n",
              "    </tr>\n",
              "  </tbody>\n",
              "</table>\n",
              "</div>"
            ],
            "text/plain": [
              "     year  percent_achieving_grade_d  grade_threshold_of_grade_d\n",
              "0  jun_15                       14.0                   56.000000\n",
              "1  nov_15                       13.0                   53.600000\n",
              "2  jun_16                       13.1                   67.571429\n",
              "3  nov_16                       12.8                   58.800000\n",
              "4  jun_17                       14.2                   57.600000"
            ]
          },
          "metadata": {},
          "execution_count": 32
        }
      ]
    },
    {
      "cell_type": "code",
      "metadata": {
        "colab": {
          "base_uri": "https://localhost:8080/",
          "height": 296
        },
        "id": "sEuN8A1wl6Gt",
        "outputId": "3bc0ae25-e3b8-4c0b-c54d-9041be68aef6"
      },
      "source": [
        "%matplotlib inline\n",
        "plt.xlabel(\"grade_threshold_of_grade_d (Physics)\")\n",
        "plt.ylabel(\"%_achieving_grade_d (Physics)\")\n",
        "plt.scatter(df_d.grade_threshold_of_grade_d, df_d.percent_achieving_grade_d, color='red', marker='+')"
      ],
      "execution_count": null,
      "outputs": [
        {
          "output_type": "execute_result",
          "data": {
            "text/plain": [
              "<matplotlib.collections.PathCollection at 0x7f2702665510>"
            ]
          },
          "metadata": {},
          "execution_count": 33
        },
        {
          "output_type": "display_data",
          "data": {
            "image/png": "[encoded data removed]",
            "text/plain": [
              "<Figure size 432x288 with 1 Axes>"
            ]
          },
          "metadata": {
            "needs_background": "light"
          }
        }
      ]
    },
    {
      "cell_type": "code",
      "metadata": {
        "colab": {
          "base_uri": "https://localhost:8080/"
        },
        "id": "4tMgEBvgmIqk",
        "outputId": "9cb79fd6-6230-4035-af16-52f0721d18f5"
      },
      "source": [
        "physics_d_reg = linear_model.LinearRegression()\n",
        "physics_d_reg.fit(df_d[['grade_threshold_of_grade_d']], df_d.percent_achieving_grade_d)"
      ],
      "execution_count": null,
      "outputs": [
        {
          "output_type": "execute_result",
          "data": {
            "text/plain": [
              "LinearRegression(copy_X=True, fit_intercept=True, n_jobs=None, normalize=False)"
            ]
          },
          "metadata": {},
          "execution_count": 34
        }
      ]
    },
    {
      "cell_type": "code",
      "metadata": {
        "colab": {
          "base_uri": "https://localhost:8080/"
        },
        "id": "ADwKSyrjmQxl",
        "outputId": "d275c6db-717b-4b93-a060-85451d2d1aa6"
      },
      "source": [
        "predicted_percent_acheiving_grade_d = physics_d_reg.predict(df_d[['grade_threshold_of_grade_d']])\n",
        "predicted_percent_acheiving_grade_d"
      ],
      "execution_count": null,
      "outputs": [
        {
          "output_type": "execute_result",
          "data": {
            "text/plain": [
              "array([12.63594377, 12.26224453, 14.43770801, 13.07192623, 12.88507661,\n",
              "       13.22763425, 13.08082383, 13.41448388, 13.53905029, 13.07192623,\n",
              "       14.81585606, 11.98197009, 12.32452773, 11.95082848])"
            ]
          },
          "metadata": {},
          "execution_count": 35
        }
      ]
    },
    {
      "cell_type": "code",
      "metadata": {
        "colab": {
          "base_uri": "https://localhost:8080/",
          "height": 296
        },
        "id": "v2NXQEFjmXjM",
        "outputId": "3cb989c4-f1b1-4bb5-aef7-79e69a928db5"
      },
      "source": [
        "%matplotlib inline\n",
        "plt.xlabel(\"grade_threshold_of_grade_d (Physics)\")\n",
        "plt.ylabel(\"%_achieving_grade_d (Physics)\")\n",
        "plt.scatter(df_d.grade_threshold_of_grade_d, df_d.percent_achieving_grade_d, color='red', marker='+')\n",
        "plt.plot(df_d.grade_threshold_of_grade_d, physics_d_reg.predict(df_d[['grade_threshold_of_grade_d']]), color='blue')"
      ],
      "execution_count": null,
      "outputs": [
        {
          "output_type": "execute_result",
          "data": {
            "text/plain": [
              "[<matplotlib.lines.Line2D at 0x7f27024a3a90>]"
            ]
          },
          "metadata": {},
          "execution_count": 36
        },
        {
          "output_type": "display_data",
          "data": {
            "image/png": "[encoded data removed]",
            "text/plain": [
              "<Figure size 432x288 with 1 Axes>"
            ]
          },
          "metadata": {
            "needs_background": "light"
          }
        }
      ]
    },
    {
      "cell_type": "markdown",
      "metadata": {
        "id": "ZcpwuEXemirg"
      },
      "source": [
        "# **Linear Regression of percentage of students achieving grade e with respect to grade threshold of grade e**"
      ]
    },
    {
      "cell_type": "code",
      "metadata": {
        "colab": {
          "base_uri": "https://localhost:8080/",
          "height": 200
        },
        "id": "-JOWh-VHmgWL",
        "outputId": "3f51af77-edf0-4bab-ab0b-e1f15edff36c"
      },
      "source": [
        "df_e = pd.read_csv(\"/content/drive/MyDrive/Colab Notebooks/physics_grades_regression/physics_as_csv_grade_e.csv\")\n",
        "df_e.head(5)"
      ],
      "execution_count": null,
      "outputs": [
        {
          "output_type": "execute_result",
          "data": {
            "text/html": [
              "<div>\n",
              "<style scoped>\n",
              "    .dataframe tbody tr th:only-of-type {\n",
              "        vertical-align: middle;\n",
              "    }\n",
              "\n",
              "    .dataframe tbody tr th {\n",
              "        vertical-align: top;\n",
              "    }\n",
              "\n",
              "    .dataframe thead th {\n",
              "        text-align: right;\n",
              "    }\n",
              "</style>\n",
              "<table border=\"1\" class=\"dataframe\">\n",
              "  <thead>\n",
              "    <tr style=\"text-align: right;\">\n",
              "      <th></th>\n",
              "      <th>year</th>\n",
              "      <th>percent_achieving_grade_e</th>\n",
              "      <th>grade_threshold_of_grade_e</th>\n",
              "    </tr>\n",
              "  </thead>\n",
              "  <tbody>\n",
              "    <tr>\n",
              "      <th>0</th>\n",
              "      <td>jun_15</td>\n",
              "      <td>10.9</td>\n",
              "      <td>46.000000</td>\n",
              "    </tr>\n",
              "    <tr>\n",
              "      <th>1</th>\n",
              "      <td>nov_15</td>\n",
              "      <td>10.6</td>\n",
              "      <td>46.000000</td>\n",
              "    </tr>\n",
              "    <tr>\n",
              "      <th>2</th>\n",
              "      <td>jun_16</td>\n",
              "      <td>11.4</td>\n",
              "      <td>62.357143</td>\n",
              "    </tr>\n",
              "    <tr>\n",
              "      <th>3</th>\n",
              "      <td>nov_16</td>\n",
              "      <td>11.3</td>\n",
              "      <td>49.200000</td>\n",
              "    </tr>\n",
              "    <tr>\n",
              "      <th>4</th>\n",
              "      <td>jun_17</td>\n",
              "      <td>11.5</td>\n",
              "      <td>47.000000</td>\n",
              "    </tr>\n",
              "  </tbody>\n",
              "</table>\n",
              "</div>"
            ],
            "text/plain": [
              "     year  percent_achieving_grade_e  grade_threshold_of_grade_e\n",
              "0  jun_15                       10.9                   46.000000\n",
              "1  nov_15                       10.6                   46.000000\n",
              "2  jun_16                       11.4                   62.357143\n",
              "3  nov_16                       11.3                   49.200000\n",
              "4  jun_17                       11.5                   47.000000"
            ]
          },
          "metadata": {},
          "execution_count": 37
        }
      ]
    },
    {
      "cell_type": "code",
      "metadata": {
        "colab": {
          "base_uri": "https://localhost:8080/",
          "height": 300
        },
        "id": "0Kn1HEy8mvak",
        "outputId": "0b548e36-b08f-4dd1-fa66-82fb57a2837e"
      },
      "source": [
        "%matplotlib inline\n",
        "plt.xlabel(\"grade_threshold_of_grade_e (Physics)\")\n",
        "plt.ylabel(\"%_achieving_grade_e (Physics)\")\n",
        "plt.scatter(df_e.grade_threshold_of_grade_e, df_e.percent_achieving_grade_e, color='red', marker='+')"
      ],
      "execution_count": null,
      "outputs": [
        {
          "output_type": "execute_result",
          "data": {
            "text/plain": [
              "<matplotlib.collections.PathCollection at 0x7f27024a3550>"
            ]
          },
          "metadata": {},
          "execution_count": 38
        },
        {
          "output_type": "display_data",
          "data": {
            "image/png": "[encoded data removed]",
            "text/plain": [
              "<Figure size 432x288 with 1 Axes>"
            ]
          },
          "metadata": {
            "needs_background": "light"
          }
        }
      ]
    },
    {
      "cell_type": "code",
      "metadata": {
        "colab": {
          "base_uri": "https://localhost:8080/"
        },
        "id": "rU-73tpfm20x",
        "outputId": "c579452c-dc84-4439-8a3a-402b78f65cec"
      },
      "source": [
        "physics_e_reg = linear_model.LinearRegression()\n",
        "physics_e_reg.fit(df_e[['grade_threshold_of_grade_e']], df_e.percent_achieving_grade_e)"
      ],
      "execution_count": null,
      "outputs": [
        {
          "output_type": "execute_result",
          "data": {
            "text/plain": [
              "LinearRegression(copy_X=True, fit_intercept=True, n_jobs=None, normalize=False)"
            ]
          },
          "metadata": {},
          "execution_count": 39
        }
      ]
    },
    {
      "cell_type": "code",
      "metadata": {
        "colab": {
          "base_uri": "https://localhost:8080/"
        },
        "id": "zh6QJwk_m-OY",
        "outputId": "86584808-7c0d-458d-c0cc-390029065001"
      },
      "source": [
        "predicted_percent_acheiving_grade_e = physics_e_reg.predict(df_e[['grade_threshold_of_grade_e']])\n",
        "predicted_percent_acheiving_grade_e"
      ],
      "execution_count": null,
      "outputs": [
        {
          "output_type": "execute_result",
          "data": {
            "text/plain": [
              "array([10.24180369, 10.24180369, 11.35188411, 10.45897226, 10.30966887,\n",
              "       10.52683744, 10.34844897, 10.62184869, 10.58112958, 10.45897226,\n",
              "       11.12405101,  9.9024778 , 10.03820815,  9.79389351])"
            ]
          },
          "metadata": {},
          "execution_count": 40
        }
      ]
    },
    {
      "cell_type": "code",
      "metadata": {
        "colab": {
          "base_uri": "https://localhost:8080/",
          "height": 300
        },
        "id": "ouek3YZznDur",
        "outputId": "6083816e-8712-4a3d-a883-3b5a200a0e57"
      },
      "source": [
        "%matplotlib inline\n",
        "plt.xlabel(\"grade_threshold_of_grade_e (Physics)\")\n",
        "plt.ylabel(\"%_achieving_grade_e (Physics)\")\n",
        "plt.scatter(df_e.grade_threshold_of_grade_e, df_e.percent_achieving_grade_e, color='red', marker='+')\n",
        "plt.plot(df_e.grade_threshold_of_grade_e, physics_e_reg.predict(df_e[['grade_threshold_of_grade_e']]), color='blue')"
      ],
      "execution_count": null,
      "outputs": [
        {
          "output_type": "execute_result",
          "data": {
            "text/plain": [
              "[<matplotlib.lines.Line2D at 0x7f2702793dd0>]"
            ]
          },
          "metadata": {},
          "execution_count": 41
        },
        {
          "output_type": "display_data",
          "data": {
            "image/png": "[encoded data removed]",
            "text/plain": [
              "<Figure size 432x288 with 1 Axes>"
            ]
          },
          "metadata": {
            "needs_background": "light"
          }
        }
      ]
    },
    {
      "cell_type": "code",
      "metadata": {
        "id": "yvuV_jUEnOYw"
      },
      "source": [
        ""
      ],
      "execution_count": null,
      "outputs": []
    },
    {
      "cell_type": "markdown",
      "source": [
        "#**We Know That:** <br>\n",
        "x-axis = grade_threshold_of_grade_e_(Physics) <br>\n",
        "y-axis = %_achieving_of_grade_e_(Physics)<br>\n",
        "_____________________________________________<br>\n",
        "1. An upward sloping linear line means that when the grade threshold for a grade increases, percetage of students achieving that particular grade also increases.\n",
        "\n",
        "2. A downward sloping linear line measn that when the grade threshold for a grade increases, percentage f students achieving that paricular grade decreases."
      ],
      "metadata": {
        "id": "g8HgdrlRLyUj"
      }
    },
    {
      "cell_type": "markdown",
      "source": [
        "# **Conclusion:** <br>\n",
        "For Grade (a) and Grade (b) <br>\n",
        "1. The downward sloping curve reflects that as the grade threshold for grade (a) and grade (b) increase, the percentage (%) of students achieving grades (a) and (b) decreases.\n",
        "\n",
        "For Grade (c), (d), and (e)\n",
        "1. The upward sloping curve reflects that as the grade threshold for grade (a) and grade (b) increase, the percentage (%) of students achieving grades (a) and (b) increases.\n",
        "\n",
        "2. The gradient of the linear line is deiffernt. This shows that \"how much change in grade thresholds\" will cause \"how much change in % achieving that grade\". \n"
      ],
      "metadata": {
        "id": "Jvk5SbmANNad"
      }
    }
  ]
}